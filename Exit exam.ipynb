{
 "cells": [
  {
   "cell_type": "markdown",
   "id": "4176454f",
   "metadata": {},
   "source": [
    "#                                   EXIT EXAMINATION"
   ]
  },
  {
   "cell_type": "code",
   "execution_count": 67,
   "id": "19ea69c6",
   "metadata": {},
   "outputs": [],
   "source": [
    "import numpy as np\n",
    "import pandas as pd\n",
    "import matplotlib.pyplot as plt\n",
    "import seaborn as sns\n",
    "from sklearn.preprocessing import LabelEncoder, StandardScaler\n",
    "from sklearn.model_selection import train_test_split\n",
    "from sklearn.linear_model import LogisticRegression\n",
    "from sklearn.ensemble import RandomForestClassifier\n",
    "from sklearn.tree import DecisionTreeClassifier\n",
    "from sklearn.svm import SVC\n",
    "from sklearn.metrics import classification_report,accuracy_score"
   ]
  },
  {
   "cell_type": "code",
   "execution_count": 2,
   "id": "8823ebc7",
   "metadata": {},
   "outputs": [],
   "source": [
    "# Load the dataset\n",
    "data=pd.read_csv(r\"C:\\Users\\USER\\Desktop\\ICT DATASCIENCE\\mainproject\\Employee.csv\")"
   ]
  },
  {
   "cell_type": "code",
   "execution_count": 10,
   "id": "26f4048e",
   "metadata": {},
   "outputs": [],
   "source": [
    "pd.set_option('display.max_columns',None)"
   ]
  },
  {
   "cell_type": "code",
   "execution_count": 11,
   "id": "b14f1da8",
   "metadata": {},
   "outputs": [
    {
     "data": {
      "text/html": [
       "<div>\n",
       "<style scoped>\n",
       "    .dataframe tbody tr th:only-of-type {\n",
       "        vertical-align: middle;\n",
       "    }\n",
       "\n",
       "    .dataframe tbody tr th {\n",
       "        vertical-align: top;\n",
       "    }\n",
       "\n",
       "    .dataframe thead th {\n",
       "        text-align: right;\n",
       "    }\n",
       "</style>\n",
       "<table border=\"1\" class=\"dataframe\">\n",
       "  <thead>\n",
       "    <tr style=\"text-align: right;\">\n",
       "      <th></th>\n",
       "      <th>Employee ID</th>\n",
       "      <th>Age</th>\n",
       "      <th>Gender</th>\n",
       "      <th>Years at Company</th>\n",
       "      <th>Job Role</th>\n",
       "      <th>Monthly Income</th>\n",
       "      <th>Work-Life Balance</th>\n",
       "      <th>Job Satisfaction</th>\n",
       "      <th>Performance Rating</th>\n",
       "      <th>Number of Promotions</th>\n",
       "      <th>Overtime</th>\n",
       "      <th>Distance from Home</th>\n",
       "      <th>Education Level</th>\n",
       "      <th>Marital Status</th>\n",
       "      <th>Number of Dependents</th>\n",
       "      <th>Job Level</th>\n",
       "      <th>Company Size</th>\n",
       "      <th>Company Tenure</th>\n",
       "      <th>Remote Work</th>\n",
       "      <th>Leadership Opportunities</th>\n",
       "      <th>Innovation Opportunities</th>\n",
       "      <th>Company Reputation</th>\n",
       "      <th>Employee Recognition</th>\n",
       "      <th>Attrition</th>\n",
       "    </tr>\n",
       "  </thead>\n",
       "  <tbody>\n",
       "    <tr>\n",
       "      <th>0</th>\n",
       "      <td>8410</td>\n",
       "      <td>31</td>\n",
       "      <td>Male</td>\n",
       "      <td>19</td>\n",
       "      <td>Education</td>\n",
       "      <td>5390</td>\n",
       "      <td>Excellent</td>\n",
       "      <td>Medium</td>\n",
       "      <td>Average</td>\n",
       "      <td>2.0</td>\n",
       "      <td>No</td>\n",
       "      <td>22</td>\n",
       "      <td>Associate Degree</td>\n",
       "      <td>Married</td>\n",
       "      <td>0.0</td>\n",
       "      <td>Mid</td>\n",
       "      <td>Medium</td>\n",
       "      <td>89</td>\n",
       "      <td>No</td>\n",
       "      <td>No</td>\n",
       "      <td>No</td>\n",
       "      <td>Excellent</td>\n",
       "      <td>Medium</td>\n",
       "      <td>Stayed</td>\n",
       "    </tr>\n",
       "    <tr>\n",
       "      <th>1</th>\n",
       "      <td>64756</td>\n",
       "      <td>59</td>\n",
       "      <td>Female</td>\n",
       "      <td>4</td>\n",
       "      <td>Media</td>\n",
       "      <td>5534</td>\n",
       "      <td>Poor</td>\n",
       "      <td>High</td>\n",
       "      <td>Low</td>\n",
       "      <td>3.0</td>\n",
       "      <td>No</td>\n",
       "      <td>21</td>\n",
       "      <td>Master’s Degree</td>\n",
       "      <td>Divorced</td>\n",
       "      <td>3.0</td>\n",
       "      <td>Mid</td>\n",
       "      <td>Medium</td>\n",
       "      <td>21</td>\n",
       "      <td>No</td>\n",
       "      <td>No</td>\n",
       "      <td>No</td>\n",
       "      <td>Fair</td>\n",
       "      <td>Low</td>\n",
       "      <td>Stayed</td>\n",
       "    </tr>\n",
       "    <tr>\n",
       "      <th>2</th>\n",
       "      <td>30257</td>\n",
       "      <td>24</td>\n",
       "      <td>Female</td>\n",
       "      <td>10</td>\n",
       "      <td>Healthcare</td>\n",
       "      <td>8159</td>\n",
       "      <td>Good</td>\n",
       "      <td>High</td>\n",
       "      <td>Low</td>\n",
       "      <td>0.0</td>\n",
       "      <td>No</td>\n",
       "      <td>11</td>\n",
       "      <td>Bachelor’s Degree</td>\n",
       "      <td>Married</td>\n",
       "      <td>3.0</td>\n",
       "      <td>Mid</td>\n",
       "      <td>Medium</td>\n",
       "      <td>74</td>\n",
       "      <td>No</td>\n",
       "      <td>No</td>\n",
       "      <td>No</td>\n",
       "      <td>Poor</td>\n",
       "      <td>Low</td>\n",
       "      <td>Stayed</td>\n",
       "    </tr>\n",
       "    <tr>\n",
       "      <th>3</th>\n",
       "      <td>65791</td>\n",
       "      <td>36</td>\n",
       "      <td>Female</td>\n",
       "      <td>7</td>\n",
       "      <td>Education</td>\n",
       "      <td>3989</td>\n",
       "      <td>Good</td>\n",
       "      <td>High</td>\n",
       "      <td>High</td>\n",
       "      <td>1.0</td>\n",
       "      <td>No</td>\n",
       "      <td>27</td>\n",
       "      <td>High School</td>\n",
       "      <td>Single</td>\n",
       "      <td>2.0</td>\n",
       "      <td>Mid</td>\n",
       "      <td>Small</td>\n",
       "      <td>50</td>\n",
       "      <td>Yes</td>\n",
       "      <td>No</td>\n",
       "      <td>No</td>\n",
       "      <td>Good</td>\n",
       "      <td>Medium</td>\n",
       "      <td>Stayed</td>\n",
       "    </tr>\n",
       "    <tr>\n",
       "      <th>4</th>\n",
       "      <td>65026</td>\n",
       "      <td>56</td>\n",
       "      <td>Male</td>\n",
       "      <td>41</td>\n",
       "      <td>Education</td>\n",
       "      <td>4821</td>\n",
       "      <td>Fair</td>\n",
       "      <td>Very High</td>\n",
       "      <td>Average</td>\n",
       "      <td>0.0</td>\n",
       "      <td>Yes</td>\n",
       "      <td>71</td>\n",
       "      <td>High School</td>\n",
       "      <td>Divorced</td>\n",
       "      <td>0.0</td>\n",
       "      <td>Senior</td>\n",
       "      <td>Medium</td>\n",
       "      <td>68</td>\n",
       "      <td>No</td>\n",
       "      <td>No</td>\n",
       "      <td>No</td>\n",
       "      <td>Fair</td>\n",
       "      <td>Medium</td>\n",
       "      <td>Stayed</td>\n",
       "    </tr>\n",
       "  </tbody>\n",
       "</table>\n",
       "</div>"
      ],
      "text/plain": [
       "   Employee ID  Age  Gender  Years at Company    Job Role  Monthly Income  \\\n",
       "0         8410   31    Male                19   Education            5390   \n",
       "1        64756   59  Female                 4       Media            5534   \n",
       "2        30257   24  Female                10  Healthcare            8159   \n",
       "3        65791   36  Female                 7   Education            3989   \n",
       "4        65026   56    Male                41   Education            4821   \n",
       "\n",
       "  Work-Life Balance Job Satisfaction Performance Rating  Number of Promotions  \\\n",
       "0         Excellent           Medium            Average                   2.0   \n",
       "1              Poor             High                Low                   3.0   \n",
       "2              Good             High                Low                   0.0   \n",
       "3              Good             High               High                   1.0   \n",
       "4              Fair        Very High            Average                   0.0   \n",
       "\n",
       "  Overtime  Distance from Home    Education Level Marital Status  \\\n",
       "0       No                  22   Associate Degree        Married   \n",
       "1       No                  21    Master’s Degree       Divorced   \n",
       "2       No                  11  Bachelor’s Degree        Married   \n",
       "3       No                  27        High School         Single   \n",
       "4      Yes                  71        High School       Divorced   \n",
       "\n",
       "   Number of Dependents Job Level Company Size  Company Tenure Remote Work  \\\n",
       "0                   0.0       Mid       Medium              89          No   \n",
       "1                   3.0       Mid       Medium              21          No   \n",
       "2                   3.0       Mid       Medium              74          No   \n",
       "3                   2.0       Mid        Small              50         Yes   \n",
       "4                   0.0    Senior       Medium              68          No   \n",
       "\n",
       "  Leadership Opportunities Innovation Opportunities Company Reputation  \\\n",
       "0                       No                       No          Excellent   \n",
       "1                       No                       No               Fair   \n",
       "2                       No                       No               Poor   \n",
       "3                       No                       No               Good   \n",
       "4                       No                       No               Fair   \n",
       "\n",
       "  Employee Recognition Attrition  \n",
       "0               Medium    Stayed  \n",
       "1                  Low    Stayed  \n",
       "2                  Low    Stayed  \n",
       "3               Medium    Stayed  \n",
       "4               Medium    Stayed  "
      ]
     },
     "execution_count": 11,
     "metadata": {},
     "output_type": "execute_result"
    }
   ],
   "source": [
    "data.head()"
   ]
  },
  {
   "cell_type": "code",
   "execution_count": 6,
   "id": "a288df6f",
   "metadata": {},
   "outputs": [
    {
     "data": {
      "text/html": [
       "<div>\n",
       "<style scoped>\n",
       "    .dataframe tbody tr th:only-of-type {\n",
       "        vertical-align: middle;\n",
       "    }\n",
       "\n",
       "    .dataframe tbody tr th {\n",
       "        vertical-align: top;\n",
       "    }\n",
       "\n",
       "    .dataframe thead th {\n",
       "        text-align: right;\n",
       "    }\n",
       "</style>\n",
       "<table border=\"1\" class=\"dataframe\">\n",
       "  <thead>\n",
       "    <tr style=\"text-align: right;\">\n",
       "      <th></th>\n",
       "      <th>Employee ID</th>\n",
       "      <th>Age</th>\n",
       "      <th>Gender</th>\n",
       "      <th>Years at Company</th>\n",
       "      <th>Job Role</th>\n",
       "      <th>Monthly Income</th>\n",
       "      <th>Work-Life Balance</th>\n",
       "      <th>Job Satisfaction</th>\n",
       "      <th>Performance Rating</th>\n",
       "      <th>Number of Promotions</th>\n",
       "      <th>...</th>\n",
       "      <th>Number of Dependents</th>\n",
       "      <th>Job Level</th>\n",
       "      <th>Company Size</th>\n",
       "      <th>Company Tenure</th>\n",
       "      <th>Remote Work</th>\n",
       "      <th>Leadership Opportunities</th>\n",
       "      <th>Innovation Opportunities</th>\n",
       "      <th>Company Reputation</th>\n",
       "      <th>Employee Recognition</th>\n",
       "      <th>Attrition</th>\n",
       "    </tr>\n",
       "  </thead>\n",
       "  <tbody>\n",
       "    <tr>\n",
       "      <th>74493</th>\n",
       "      <td>16243</td>\n",
       "      <td>56</td>\n",
       "      <td>Female</td>\n",
       "      <td>42</td>\n",
       "      <td>Healthcare</td>\n",
       "      <td>7830</td>\n",
       "      <td>Poor</td>\n",
       "      <td>Medium</td>\n",
       "      <td>Average</td>\n",
       "      <td>0.0</td>\n",
       "      <td>...</td>\n",
       "      <td>0.0</td>\n",
       "      <td>Senior</td>\n",
       "      <td>Medium</td>\n",
       "      <td>60</td>\n",
       "      <td>No</td>\n",
       "      <td>No</td>\n",
       "      <td>No</td>\n",
       "      <td>Poor</td>\n",
       "      <td>Medium</td>\n",
       "      <td>Stayed</td>\n",
       "    </tr>\n",
       "    <tr>\n",
       "      <th>74494</th>\n",
       "      <td>47175</td>\n",
       "      <td>30</td>\n",
       "      <td>Female</td>\n",
       "      <td>15</td>\n",
       "      <td>Education</td>\n",
       "      <td>3856</td>\n",
       "      <td>Good</td>\n",
       "      <td>Medium</td>\n",
       "      <td>Average</td>\n",
       "      <td>2.0</td>\n",
       "      <td>...</td>\n",
       "      <td>0.0</td>\n",
       "      <td>Entry</td>\n",
       "      <td>Medium</td>\n",
       "      <td>20</td>\n",
       "      <td>No</td>\n",
       "      <td>No</td>\n",
       "      <td>No</td>\n",
       "      <td>Good</td>\n",
       "      <td>Medium</td>\n",
       "      <td>Left</td>\n",
       "    </tr>\n",
       "    <tr>\n",
       "      <th>74495</th>\n",
       "      <td>12409</td>\n",
       "      <td>52</td>\n",
       "      <td>Male</td>\n",
       "      <td>5</td>\n",
       "      <td>Education</td>\n",
       "      <td>5654</td>\n",
       "      <td>Good</td>\n",
       "      <td>Very High</td>\n",
       "      <td>Below Average</td>\n",
       "      <td>0.0</td>\n",
       "      <td>...</td>\n",
       "      <td>4.0</td>\n",
       "      <td>Mid</td>\n",
       "      <td>Small</td>\n",
       "      <td>7</td>\n",
       "      <td>No</td>\n",
       "      <td>No</td>\n",
       "      <td>No</td>\n",
       "      <td>Good</td>\n",
       "      <td>High</td>\n",
       "      <td>Left</td>\n",
       "    </tr>\n",
       "    <tr>\n",
       "      <th>74496</th>\n",
       "      <td>9554</td>\n",
       "      <td>18</td>\n",
       "      <td>Male</td>\n",
       "      <td>4</td>\n",
       "      <td>Education</td>\n",
       "      <td>5276</td>\n",
       "      <td>Fair</td>\n",
       "      <td>High</td>\n",
       "      <td>Average</td>\n",
       "      <td>0.0</td>\n",
       "      <td>...</td>\n",
       "      <td>3.0</td>\n",
       "      <td>Mid</td>\n",
       "      <td>Large</td>\n",
       "      <td>5</td>\n",
       "      <td>No</td>\n",
       "      <td>No</td>\n",
       "      <td>No</td>\n",
       "      <td>Poor</td>\n",
       "      <td>High</td>\n",
       "      <td>Stayed</td>\n",
       "    </tr>\n",
       "    <tr>\n",
       "      <th>74497</th>\n",
       "      <td>73042</td>\n",
       "      <td>59</td>\n",
       "      <td>Female</td>\n",
       "      <td>48</td>\n",
       "      <td>Education</td>\n",
       "      <td>3774</td>\n",
       "      <td>Good</td>\n",
       "      <td>High</td>\n",
       "      <td>Below Average</td>\n",
       "      <td>1.0</td>\n",
       "      <td>...</td>\n",
       "      <td>4.0</td>\n",
       "      <td>Mid</td>\n",
       "      <td>Large</td>\n",
       "      <td>118</td>\n",
       "      <td>No</td>\n",
       "      <td>No</td>\n",
       "      <td>No</td>\n",
       "      <td>Good</td>\n",
       "      <td>Very High</td>\n",
       "      <td>Left</td>\n",
       "    </tr>\n",
       "  </tbody>\n",
       "</table>\n",
       "<p>5 rows × 24 columns</p>\n",
       "</div>"
      ],
      "text/plain": [
       "       Employee ID  Age  Gender  Years at Company    Job Role  Monthly Income  \\\n",
       "74493        16243   56  Female                42  Healthcare            7830   \n",
       "74494        47175   30  Female                15   Education            3856   \n",
       "74495        12409   52    Male                 5   Education            5654   \n",
       "74496         9554   18    Male                 4   Education            5276   \n",
       "74497        73042   59  Female                48   Education            3774   \n",
       "\n",
       "      Work-Life Balance Job Satisfaction Performance Rating  \\\n",
       "74493              Poor           Medium            Average   \n",
       "74494              Good           Medium            Average   \n",
       "74495              Good        Very High      Below Average   \n",
       "74496              Fair             High            Average   \n",
       "74497              Good             High      Below Average   \n",
       "\n",
       "       Number of Promotions  ... Number of Dependents  Job Level Company Size  \\\n",
       "74493                   0.0  ...                  0.0     Senior       Medium   \n",
       "74494                   2.0  ...                  0.0      Entry       Medium   \n",
       "74495                   0.0  ...                  4.0        Mid        Small   \n",
       "74496                   0.0  ...                  3.0        Mid        Large   \n",
       "74497                   1.0  ...                  4.0        Mid        Large   \n",
       "\n",
       "      Company Tenure  Remote Work Leadership Opportunities  \\\n",
       "74493             60           No                       No   \n",
       "74494             20           No                       No   \n",
       "74495              7           No                       No   \n",
       "74496              5           No                       No   \n",
       "74497            118           No                       No   \n",
       "\n",
       "      Innovation Opportunities  Company Reputation Employee Recognition  \\\n",
       "74493                       No                Poor               Medium   \n",
       "74494                       No                Good               Medium   \n",
       "74495                       No                Good                 High   \n",
       "74496                       No                Poor                 High   \n",
       "74497                       No                Good            Very High   \n",
       "\n",
       "      Attrition  \n",
       "74493    Stayed  \n",
       "74494      Left  \n",
       "74495      Left  \n",
       "74496    Stayed  \n",
       "74497      Left  \n",
       "\n",
       "[5 rows x 24 columns]"
      ]
     },
     "execution_count": 6,
     "metadata": {},
     "output_type": "execute_result"
    }
   ],
   "source": [
    "data.tail()"
   ]
  },
  {
   "cell_type": "code",
   "execution_count": 4,
   "id": "5c80f85d",
   "metadata": {},
   "outputs": [
    {
     "name": "stdout",
     "output_type": "stream",
     "text": [
      "<class 'pandas.core.frame.DataFrame'>\n",
      "RangeIndex: 74498 entries, 0 to 74497\n",
      "Data columns (total 24 columns):\n",
      " #   Column                    Non-Null Count  Dtype  \n",
      "---  ------                    --------------  -----  \n",
      " 0   Employee ID               74498 non-null  int64  \n",
      " 1   Age                       74498 non-null  int64  \n",
      " 2   Gender                    74498 non-null  object \n",
      " 3   Years at Company          74498 non-null  int64  \n",
      " 4   Job Role                  74498 non-null  object \n",
      " 5   Monthly Income            74498 non-null  int64  \n",
      " 6   Work-Life Balance         74494 non-null  object \n",
      " 7   Job Satisfaction          74498 non-null  object \n",
      " 8   Performance Rating        74494 non-null  object \n",
      " 9   Number of Promotions      74493 non-null  float64\n",
      " 10  Overtime                  74498 non-null  object \n",
      " 11  Distance from Home        74498 non-null  int64  \n",
      " 12  Education Level           74493 non-null  object \n",
      " 13  Marital Status            74494 non-null  object \n",
      " 14  Number of Dependents      74492 non-null  float64\n",
      " 15  Job Level                 74493 non-null  object \n",
      " 16  Company Size              74496 non-null  object \n",
      " 17  Company Tenure            74498 non-null  int64  \n",
      " 18  Remote Work               74495 non-null  object \n",
      " 19  Leadership Opportunities  74498 non-null  object \n",
      " 20  Innovation Opportunities  74498 non-null  object \n",
      " 21  Company Reputation        74498 non-null  object \n",
      " 22  Employee Recognition      74496 non-null  object \n",
      " 23  Attrition                 74498 non-null  object \n",
      "dtypes: float64(2), int64(6), object(16)\n",
      "memory usage: 13.6+ MB\n"
     ]
    }
   ],
   "source": [
    "data.info()"
   ]
  },
  {
   "cell_type": "code",
   "execution_count": 5,
   "id": "2b5dadfc",
   "metadata": {},
   "outputs": [
    {
     "data": {
      "text/html": [
       "<div>\n",
       "<style scoped>\n",
       "    .dataframe tbody tr th:only-of-type {\n",
       "        vertical-align: middle;\n",
       "    }\n",
       "\n",
       "    .dataframe tbody tr th {\n",
       "        vertical-align: top;\n",
       "    }\n",
       "\n",
       "    .dataframe thead th {\n",
       "        text-align: right;\n",
       "    }\n",
       "</style>\n",
       "<table border=\"1\" class=\"dataframe\">\n",
       "  <thead>\n",
       "    <tr style=\"text-align: right;\">\n",
       "      <th></th>\n",
       "      <th>Employee ID</th>\n",
       "      <th>Age</th>\n",
       "      <th>Years at Company</th>\n",
       "      <th>Monthly Income</th>\n",
       "      <th>Number of Promotions</th>\n",
       "      <th>Distance from Home</th>\n",
       "      <th>Number of Dependents</th>\n",
       "      <th>Company Tenure</th>\n",
       "    </tr>\n",
       "  </thead>\n",
       "  <tbody>\n",
       "    <tr>\n",
       "      <th>count</th>\n",
       "      <td>74498.000000</td>\n",
       "      <td>74498.000000</td>\n",
       "      <td>74498.000000</td>\n",
       "      <td>74498.000000</td>\n",
       "      <td>74493.000000</td>\n",
       "      <td>74498.000000</td>\n",
       "      <td>74492.000000</td>\n",
       "      <td>74498.000000</td>\n",
       "    </tr>\n",
       "    <tr>\n",
       "      <th>mean</th>\n",
       "      <td>37249.500000</td>\n",
       "      <td>38.529746</td>\n",
       "      <td>15.721603</td>\n",
       "      <td>7299.379514</td>\n",
       "      <td>0.832978</td>\n",
       "      <td>49.991584</td>\n",
       "      <td>1.650365</td>\n",
       "      <td>55.727456</td>\n",
       "    </tr>\n",
       "    <tr>\n",
       "      <th>std</th>\n",
       "      <td>21505.864514</td>\n",
       "      <td>12.083456</td>\n",
       "      <td>11.223744</td>\n",
       "      <td>2152.508566</td>\n",
       "      <td>0.995303</td>\n",
       "      <td>28.513611</td>\n",
       "      <td>1.553660</td>\n",
       "      <td>25.399349</td>\n",
       "    </tr>\n",
       "    <tr>\n",
       "      <th>min</th>\n",
       "      <td>1.000000</td>\n",
       "      <td>18.000000</td>\n",
       "      <td>1.000000</td>\n",
       "      <td>1226.000000</td>\n",
       "      <td>0.000000</td>\n",
       "      <td>1.000000</td>\n",
       "      <td>0.000000</td>\n",
       "      <td>2.000000</td>\n",
       "    </tr>\n",
       "    <tr>\n",
       "      <th>25%</th>\n",
       "      <td>18625.250000</td>\n",
       "      <td>28.000000</td>\n",
       "      <td>7.000000</td>\n",
       "      <td>5652.000000</td>\n",
       "      <td>0.000000</td>\n",
       "      <td>25.000000</td>\n",
       "      <td>0.000000</td>\n",
       "      <td>36.000000</td>\n",
       "    </tr>\n",
       "    <tr>\n",
       "      <th>50%</th>\n",
       "      <td>37249.500000</td>\n",
       "      <td>39.000000</td>\n",
       "      <td>13.000000</td>\n",
       "      <td>7348.000000</td>\n",
       "      <td>1.000000</td>\n",
       "      <td>50.000000</td>\n",
       "      <td>1.000000</td>\n",
       "      <td>56.000000</td>\n",
       "    </tr>\n",
       "    <tr>\n",
       "      <th>75%</th>\n",
       "      <td>55873.750000</td>\n",
       "      <td>49.000000</td>\n",
       "      <td>23.000000</td>\n",
       "      <td>8876.000000</td>\n",
       "      <td>2.000000</td>\n",
       "      <td>75.000000</td>\n",
       "      <td>3.000000</td>\n",
       "      <td>76.000000</td>\n",
       "    </tr>\n",
       "    <tr>\n",
       "      <th>max</th>\n",
       "      <td>74498.000000</td>\n",
       "      <td>59.000000</td>\n",
       "      <td>51.000000</td>\n",
       "      <td>16149.000000</td>\n",
       "      <td>4.000000</td>\n",
       "      <td>99.000000</td>\n",
       "      <td>6.000000</td>\n",
       "      <td>128.000000</td>\n",
       "    </tr>\n",
       "  </tbody>\n",
       "</table>\n",
       "</div>"
      ],
      "text/plain": [
       "        Employee ID           Age  Years at Company  Monthly Income  \\\n",
       "count  74498.000000  74498.000000      74498.000000    74498.000000   \n",
       "mean   37249.500000     38.529746         15.721603     7299.379514   \n",
       "std    21505.864514     12.083456         11.223744     2152.508566   \n",
       "min        1.000000     18.000000          1.000000     1226.000000   \n",
       "25%    18625.250000     28.000000          7.000000     5652.000000   \n",
       "50%    37249.500000     39.000000         13.000000     7348.000000   \n",
       "75%    55873.750000     49.000000         23.000000     8876.000000   \n",
       "max    74498.000000     59.000000         51.000000    16149.000000   \n",
       "\n",
       "       Number of Promotions  Distance from Home  Number of Dependents  \\\n",
       "count          74493.000000        74498.000000          74492.000000   \n",
       "mean               0.832978           49.991584              1.650365   \n",
       "std                0.995303           28.513611              1.553660   \n",
       "min                0.000000            1.000000              0.000000   \n",
       "25%                0.000000           25.000000              0.000000   \n",
       "50%                1.000000           50.000000              1.000000   \n",
       "75%                2.000000           75.000000              3.000000   \n",
       "max                4.000000           99.000000              6.000000   \n",
       "\n",
       "       Company Tenure  \n",
       "count    74498.000000  \n",
       "mean        55.727456  \n",
       "std         25.399349  \n",
       "min          2.000000  \n",
       "25%         36.000000  \n",
       "50%         56.000000  \n",
       "75%         76.000000  \n",
       "max        128.000000  "
      ]
     },
     "execution_count": 5,
     "metadata": {},
     "output_type": "execute_result"
    }
   ],
   "source": [
    "data.describe()"
   ]
  },
  {
   "cell_type": "markdown",
   "id": "e2daefdb",
   "metadata": {},
   "source": [
    "# Pre-processing"
   ]
  },
  {
   "cell_type": "code",
   "execution_count": 8,
   "id": "cc027569",
   "metadata": {},
   "outputs": [
    {
     "data": {
      "text/plain": [
       "0"
      ]
     },
     "execution_count": 8,
     "metadata": {},
     "output_type": "execute_result"
    }
   ],
   "source": [
    "#Checking Duplicate values\n",
    "data.duplicated().sum()"
   ]
  },
  {
   "cell_type": "markdown",
   "id": "a9cb4c35",
   "metadata": {},
   "source": [
    "## Handling null values"
   ]
  },
  {
   "cell_type": "code",
   "execution_count": 9,
   "id": "930186e4",
   "metadata": {},
   "outputs": [
    {
     "data": {
      "text/plain": [
       "Employee ID                 0\n",
       "Age                         0\n",
       "Gender                      0\n",
       "Years at Company            0\n",
       "Job Role                    0\n",
       "Monthly Income              0\n",
       "Work-Life Balance           4\n",
       "Job Satisfaction            0\n",
       "Performance Rating          4\n",
       "Number of Promotions        5\n",
       "Overtime                    0\n",
       "Distance from Home          0\n",
       "Education Level             5\n",
       "Marital Status              4\n",
       "Number of Dependents        6\n",
       "Job Level                   5\n",
       "Company Size                2\n",
       "Company Tenure              0\n",
       "Remote Work                 3\n",
       "Leadership Opportunities    0\n",
       "Innovation Opportunities    0\n",
       "Company Reputation          0\n",
       "Employee Recognition        2\n",
       "Attrition                   0\n",
       "dtype: int64"
      ]
     },
     "execution_count": 9,
     "metadata": {},
     "output_type": "execute_result"
    }
   ],
   "source": [
    "#Checking null values\n",
    "data.isnull().sum()"
   ]
  },
  {
   "cell_type": "code",
   "execution_count": 12,
   "id": "6eab85a6",
   "metadata": {},
   "outputs": [
    {
     "name": "stdout",
     "output_type": "stream",
     "text": [
      "['Work-Life Balance', 'Performance Rating', 'Number of Promotions', 'Education Level', 'Marital Status', 'Number of Dependents', 'Job Level', 'Company Size', 'Remote Work', 'Employee Recognition']\n"
     ]
    }
   ],
   "source": [
    "#Display unnecessary columns\n",
    "unnecessary_columns=['Work-Life Balance','Performance Rating','Number of Promotions','Education Level','Marital Status','Number of Dependents','Job Level','Company Size','Remote Work','Employee Recognition']\n",
    "print(unnecessary_columns)"
   ]
  },
  {
   "cell_type": "code",
   "execution_count": 13,
   "id": "a0a0211d",
   "metadata": {},
   "outputs": [],
   "source": [
    "#Drop unnecessary columns\n",
    "data.drop(['Work-Life Balance','Performance Rating','Number of Promotions','Education Level','Marital Status','Number of Dependents','Job Level','Company Size','Remote Work','Employee Recognition'],axis=1,inplace=True)"
   ]
  },
  {
   "cell_type": "code",
   "execution_count": 14,
   "id": "245c7410",
   "metadata": {},
   "outputs": [
    {
     "data": {
      "text/plain": [
       "Employee ID                 0\n",
       "Age                         0\n",
       "Gender                      0\n",
       "Years at Company            0\n",
       "Job Role                    0\n",
       "Monthly Income              0\n",
       "Job Satisfaction            0\n",
       "Overtime                    0\n",
       "Distance from Home          0\n",
       "Company Tenure              0\n",
       "Leadership Opportunities    0\n",
       "Innovation Opportunities    0\n",
       "Company Reputation          0\n",
       "Attrition                   0\n",
       "dtype: int64"
      ]
     },
     "execution_count": 14,
     "metadata": {},
     "output_type": "execute_result"
    }
   ],
   "source": [
    "#Checking null values again\n",
    "data.isnull().sum()"
   ]
  },
  {
   "cell_type": "markdown",
   "id": "39c548f0",
   "metadata": {},
   "source": [
    "## Handling Outliers"
   ]
  },
  {
   "cell_type": "code",
   "execution_count": 17,
   "id": "39487d94",
   "metadata": {},
   "outputs": [
    {
     "data": {
      "image/png": "[encoded data removed]",
      "text/plain": [
       "<Figure size 1200x600 with 1 Axes>"
      ]
     },
     "metadata": {},
     "output_type": "display_data"
    }
   ],
   "source": [
    "#Display Outliers\n",
    "plt.figure(figsize=(12,6))\n",
    "plt.xticks(rotation=90)\n",
    "sns.boxplot(data)\n",
    "plt.show()"
   ]
  },
  {
   "cell_type": "markdown",
   "id": "033fe34e",
   "metadata": {},
   "source": [
    "Inference: Outliers are present in 2 features "
   ]
  },
  {
   "cell_type": "code",
   "execution_count": 19,
   "id": "5c46343b",
   "metadata": {},
   "outputs": [
    {
     "name": "stdout",
     "output_type": "stream",
     "text": [
      "skewness of Years at Company : 0.7899082019432808\n",
      "skewness of Monthly Income : 0.11831228795852874\n"
     ]
    }
   ],
   "source": [
    "#Checking skewness of this features\n",
    "for i in ['Years at Company','Monthly Income']:\n",
    " print('skewness of',i,':',data[i].skew())"
   ]
  },
  {
   "cell_type": "markdown",
   "id": "a2786d2f",
   "metadata": {},
   "source": [
    "## IQR method for outlier detection and clip function for outlier handling"
   ]
  },
  {
   "cell_type": "code",
   "execution_count": 21,
   "id": "2d16a4fb",
   "metadata": {},
   "outputs": [],
   "source": [
    "for i in ['Years at Company','Monthly Income']:\n",
    "    Q1=np.percentile(data[i],25,method='midpoint')\n",
    "    Q3=np.percentile(data[i],75,method='midpoint')\n",
    "    IQR=Q3-Q1\n",
    "    low_lim=Q1-1.5*IQR\n",
    "    up_lim=Q3+1.5*IQR\n",
    "    outliers=[]\n",
    "    for j in data[i]:\n",
    "        if ((j < low_lim) | (j > up_lim)):\n",
    "            outliers.append(j)    \n",
    "    data[i]=data[i].clip(lower=low_lim,upper=up_lim) "
   ]
  },
  {
   "cell_type": "code",
   "execution_count": 22,
   "id": "4f468328",
   "metadata": {},
   "outputs": [
    {
     "data": {
      "image/png": "[encoded data removed]",
      "text/plain": [
       "<Figure size 1200x600 with 1 Axes>"
      ]
     },
     "metadata": {},
     "output_type": "display_data"
    }
   ],
   "source": [
    "#Checking Outliers again\n",
    "plt.figure(figsize=(12,6))\n",
    "plt.xticks(rotation=90)\n",
    "sns.boxplot(data)\n",
    "plt.show()"
   ]
  },
  {
   "cell_type": "code",
   "execution_count": 26,
   "id": "8918f72e",
   "metadata": {},
   "outputs": [],
   "source": [
    "#separate target(y) and independent variable(x)\n",
    "x=data.drop('Attrition',axis=1)\n",
    "y=data['Attrition']"
   ]
  },
  {
   "cell_type": "markdown",
   "id": "85a5adac",
   "metadata": {},
   "source": [
    "## Label Encoding "
   ]
  },
  {
   "cell_type": "code",
   "execution_count": 57,
   "id": "1b3986e9",
   "metadata": {},
   "outputs": [],
   "source": [
    "# Encode categorical variables using Label encoding\n",
    "label_encoders = {}\n",
    "for column in data.select_dtypes(include=['object']).columns:\n",
    "    label_encoders[column] = LabelEncoder()\n",
    "    data[column] = label_encoders[column].fit_transform(data[column])"
   ]
  },
  {
   "cell_type": "markdown",
   "id": "6c2d77e2",
   "metadata": {},
   "source": [
    "## Standard Scaling"
   ]
  },
  {
   "cell_type": "code",
   "execution_count": 58,
   "id": "66f90c94",
   "metadata": {},
   "outputs": [],
   "source": [
    "# Scale numerical features using Standard Scaling\n",
    "sc = StandardScaler()\n",
    "numerical_cols = data.select_dtypes(include=['float64', 'int64']).columns\n",
    "data[numerical_cols] = sc.fit_transform(data[numerical_cols])"
   ]
  },
  {
   "cell_type": "code",
   "execution_count": 60,
   "id": "1942189b",
   "metadata": {},
   "outputs": [
    {
     "data": {
      "text/html": [
       "<div>\n",
       "<style scoped>\n",
       "    .dataframe tbody tr th:only-of-type {\n",
       "        vertical-align: middle;\n",
       "    }\n",
       "\n",
       "    .dataframe tbody tr th {\n",
       "        vertical-align: top;\n",
       "    }\n",
       "\n",
       "    .dataframe thead th {\n",
       "        text-align: right;\n",
       "    }\n",
       "</style>\n",
       "<table border=\"1\" class=\"dataframe\">\n",
       "  <thead>\n",
       "    <tr style=\"text-align: right;\">\n",
       "      <th></th>\n",
       "      <th>Employee ID</th>\n",
       "      <th>Age</th>\n",
       "      <th>Gender</th>\n",
       "      <th>Years at Company</th>\n",
       "      <th>Job Role</th>\n",
       "      <th>Monthly Income</th>\n",
       "      <th>Job Satisfaction</th>\n",
       "      <th>Overtime</th>\n",
       "      <th>Distance from Home</th>\n",
       "      <th>Company Tenure</th>\n",
       "      <th>Leadership Opportunities</th>\n",
       "      <th>Innovation Opportunities</th>\n",
       "      <th>Company Reputation</th>\n",
       "      <th>Attrition</th>\n",
       "    </tr>\n",
       "  </thead>\n",
       "  <tbody>\n",
       "    <tr>\n",
       "      <th>0</th>\n",
       "      <td>-1.341015</td>\n",
       "      <td>-0.623149</td>\n",
       "      <td>1</td>\n",
       "      <td>0.293542</td>\n",
       "      <td>0</td>\n",
       "      <td>-0.887439</td>\n",
       "      <td>2</td>\n",
       "      <td>0</td>\n",
       "      <td>-0.981699</td>\n",
       "      <td>1.309985</td>\n",
       "      <td>0</td>\n",
       "      <td>0</td>\n",
       "      <td>0</td>\n",
       "      <td>1</td>\n",
       "    </tr>\n",
       "    <tr>\n",
       "      <th>1</th>\n",
       "      <td>1.279032</td>\n",
       "      <td>1.694084</td>\n",
       "      <td>0</td>\n",
       "      <td>-1.045952</td>\n",
       "      <td>3</td>\n",
       "      <td>-0.820495</td>\n",
       "      <td>0</td>\n",
       "      <td>0</td>\n",
       "      <td>-1.016770</td>\n",
       "      <td>-1.367267</td>\n",
       "      <td>0</td>\n",
       "      <td>0</td>\n",
       "      <td>1</td>\n",
       "      <td>1</td>\n",
       "    </tr>\n",
       "    <tr>\n",
       "      <th>2</th>\n",
       "      <td>-0.325146</td>\n",
       "      <td>-1.202458</td>\n",
       "      <td>0</td>\n",
       "      <td>-0.510154</td>\n",
       "      <td>2</td>\n",
       "      <td>0.399835</td>\n",
       "      <td>0</td>\n",
       "      <td>0</td>\n",
       "      <td>-1.367482</td>\n",
       "      <td>0.719415</td>\n",
       "      <td>0</td>\n",
       "      <td>0</td>\n",
       "      <td>3</td>\n",
       "      <td>1</td>\n",
       "    </tr>\n",
       "    <tr>\n",
       "      <th>3</th>\n",
       "      <td>1.327159</td>\n",
       "      <td>-0.209358</td>\n",
       "      <td>0</td>\n",
       "      <td>-0.778053</td>\n",
       "      <td>0</td>\n",
       "      <td>-1.538747</td>\n",
       "      <td>0</td>\n",
       "      <td>0</td>\n",
       "      <td>-0.806343</td>\n",
       "      <td>-0.225498</td>\n",
       "      <td>0</td>\n",
       "      <td>0</td>\n",
       "      <td>2</td>\n",
       "      <td>1</td>\n",
       "    </tr>\n",
       "    <tr>\n",
       "      <th>4</th>\n",
       "      <td>1.291587</td>\n",
       "      <td>1.445809</td>\n",
       "      <td>1</td>\n",
       "      <td>2.258134</td>\n",
       "      <td>0</td>\n",
       "      <td>-1.151960</td>\n",
       "      <td>3</td>\n",
       "      <td>1</td>\n",
       "      <td>0.736790</td>\n",
       "      <td>0.483187</td>\n",
       "      <td>0</td>\n",
       "      <td>0</td>\n",
       "      <td>1</td>\n",
       "      <td>1</td>\n",
       "    </tr>\n",
       "  </tbody>\n",
       "</table>\n",
       "</div>"
      ],
      "text/plain": [
       "   Employee ID       Age  Gender  Years at Company  Job Role  Monthly Income  \\\n",
       "0    -1.341015 -0.623149       1          0.293542         0       -0.887439   \n",
       "1     1.279032  1.694084       0         -1.045952         3       -0.820495   \n",
       "2    -0.325146 -1.202458       0         -0.510154         2        0.399835   \n",
       "3     1.327159 -0.209358       0         -0.778053         0       -1.538747   \n",
       "4     1.291587  1.445809       1          2.258134         0       -1.151960   \n",
       "\n",
       "   Job Satisfaction  Overtime  Distance from Home  Company Tenure  \\\n",
       "0                 2         0           -0.981699        1.309985   \n",
       "1                 0         0           -1.016770       -1.367267   \n",
       "2                 0         0           -1.367482        0.719415   \n",
       "3                 0         0           -0.806343       -0.225498   \n",
       "4                 3         1            0.736790        0.483187   \n",
       "\n",
       "   Leadership Opportunities  Innovation Opportunities  Company Reputation  \\\n",
       "0                         0                         0                   0   \n",
       "1                         0                         0                   1   \n",
       "2                         0                         0                   3   \n",
       "3                         0                         0                   2   \n",
       "4                         0                         0                   1   \n",
       "\n",
       "   Attrition  \n",
       "0          1  \n",
       "1          1  \n",
       "2          1  \n",
       "3          1  \n",
       "4          1  "
      ]
     },
     "execution_count": 60,
     "metadata": {},
     "output_type": "execute_result"
    }
   ],
   "source": [
    "data.head()"
   ]
  },
  {
   "cell_type": "code",
   "execution_count": 61,
   "id": "efa3d955",
   "metadata": {},
   "outputs": [
    {
     "data": {
      "text/html": [
       "<div>\n",
       "<style scoped>\n",
       "    .dataframe tbody tr th:only-of-type {\n",
       "        vertical-align: middle;\n",
       "    }\n",
       "\n",
       "    .dataframe tbody tr th {\n",
       "        vertical-align: top;\n",
       "    }\n",
       "\n",
       "    .dataframe thead th {\n",
       "        text-align: right;\n",
       "    }\n",
       "</style>\n",
       "<table border=\"1\" class=\"dataframe\">\n",
       "  <thead>\n",
       "    <tr style=\"text-align: right;\">\n",
       "      <th></th>\n",
       "      <th>Employee ID</th>\n",
       "      <th>Age</th>\n",
       "      <th>Gender</th>\n",
       "      <th>Years at Company</th>\n",
       "      <th>Job Role</th>\n",
       "      <th>Monthly Income</th>\n",
       "      <th>Job Satisfaction</th>\n",
       "      <th>Overtime</th>\n",
       "      <th>Distance from Home</th>\n",
       "      <th>Company Tenure</th>\n",
       "      <th>Leadership Opportunities</th>\n",
       "      <th>Innovation Opportunities</th>\n",
       "      <th>Company Reputation</th>\n",
       "      <th>Attrition</th>\n",
       "    </tr>\n",
       "  </thead>\n",
       "  <tbody>\n",
       "    <tr>\n",
       "      <th>74493</th>\n",
       "      <td>-0.976787</td>\n",
       "      <td>1.445809</td>\n",
       "      <td>0</td>\n",
       "      <td>2.347433</td>\n",
       "      <td>2</td>\n",
       "      <td>0.246887</td>\n",
       "      <td>2</td>\n",
       "      <td>1</td>\n",
       "      <td>-0.350417</td>\n",
       "      <td>0.168216</td>\n",
       "      <td>0</td>\n",
       "      <td>0</td>\n",
       "      <td>3</td>\n",
       "      <td>1</td>\n",
       "    </tr>\n",
       "    <tr>\n",
       "      <th>74494</th>\n",
       "      <td>0.461528</td>\n",
       "      <td>-0.705908</td>\n",
       "      <td>0</td>\n",
       "      <td>-0.063656</td>\n",
       "      <td>0</td>\n",
       "      <td>-1.600577</td>\n",
       "      <td>2</td>\n",
       "      <td>1</td>\n",
       "      <td>-0.175061</td>\n",
       "      <td>-1.406638</td>\n",
       "      <td>0</td>\n",
       "      <td>0</td>\n",
       "      <td>2</td>\n",
       "      <td>0</td>\n",
       "    </tr>\n",
       "    <tr>\n",
       "      <th>74495</th>\n",
       "      <td>-1.155065</td>\n",
       "      <td>1.114776</td>\n",
       "      <td>1</td>\n",
       "      <td>-0.956652</td>\n",
       "      <td>0</td>\n",
       "      <td>-0.764708</td>\n",
       "      <td>3</td>\n",
       "      <td>0</td>\n",
       "      <td>-1.612980</td>\n",
       "      <td>-1.918466</td>\n",
       "      <td>0</td>\n",
       "      <td>0</td>\n",
       "      <td>2</td>\n",
       "      <td>0</td>\n",
       "    </tr>\n",
       "    <tr>\n",
       "      <th>74496</th>\n",
       "      <td>-1.287820</td>\n",
       "      <td>-1.699008</td>\n",
       "      <td>1</td>\n",
       "      <td>-1.045952</td>\n",
       "      <td>0</td>\n",
       "      <td>-0.940436</td>\n",
       "      <td>0</td>\n",
       "      <td>0</td>\n",
       "      <td>-1.297339</td>\n",
       "      <td>-1.997209</td>\n",
       "      <td>0</td>\n",
       "      <td>0</td>\n",
       "      <td>3</td>\n",
       "      <td>1</td>\n",
       "    </tr>\n",
       "    <tr>\n",
       "      <th>74497</th>\n",
       "      <td>1.664325</td>\n",
       "      <td>1.694084</td>\n",
       "      <td>0</td>\n",
       "      <td>2.793931</td>\n",
       "      <td>0</td>\n",
       "      <td>-1.638698</td>\n",
       "      <td>0</td>\n",
       "      <td>0</td>\n",
       "      <td>0.491292</td>\n",
       "      <td>2.451754</td>\n",
       "      <td>0</td>\n",
       "      <td>0</td>\n",
       "      <td>2</td>\n",
       "      <td>0</td>\n",
       "    </tr>\n",
       "  </tbody>\n",
       "</table>\n",
       "</div>"
      ],
      "text/plain": [
       "       Employee ID       Age  Gender  Years at Company  Job Role  \\\n",
       "74493    -0.976787  1.445809       0          2.347433         2   \n",
       "74494     0.461528 -0.705908       0         -0.063656         0   \n",
       "74495    -1.155065  1.114776       1         -0.956652         0   \n",
       "74496    -1.287820 -1.699008       1         -1.045952         0   \n",
       "74497     1.664325  1.694084       0          2.793931         0   \n",
       "\n",
       "       Monthly Income  Job Satisfaction  Overtime  Distance from Home  \\\n",
       "74493        0.246887                 2         1           -0.350417   \n",
       "74494       -1.600577                 2         1           -0.175061   \n",
       "74495       -0.764708                 3         0           -1.612980   \n",
       "74496       -0.940436                 0         0           -1.297339   \n",
       "74497       -1.638698                 0         0            0.491292   \n",
       "\n",
       "       Company Tenure  Leadership Opportunities  Innovation Opportunities  \\\n",
       "74493        0.168216                         0                         0   \n",
       "74494       -1.406638                         0                         0   \n",
       "74495       -1.918466                         0                         0   \n",
       "74496       -1.997209                         0                         0   \n",
       "74497        2.451754                         0                         0   \n",
       "\n",
       "       Company Reputation  Attrition  \n",
       "74493                   3          1  \n",
       "74494                   2          0  \n",
       "74495                   2          0  \n",
       "74496                   3          1  \n",
       "74497                   2          0  "
      ]
     },
     "execution_count": 61,
     "metadata": {},
     "output_type": "execute_result"
    }
   ],
   "source": [
    "data.tail()"
   ]
  },
  {
   "cell_type": "markdown",
   "id": "ba4fdc12",
   "metadata": {},
   "source": [
    "# Feature Engineering"
   ]
  },
  {
   "cell_type": "code",
   "execution_count": 62,
   "id": "0cdbf6cc",
   "metadata": {},
   "outputs": [],
   "source": [
    "#Feature Engineering\n",
    "selected_features = ['Age', 'Job Satisfaction', 'Monthly Income', 'Overtime', 'Years at Company']\n",
    "x = data[selected_features]\n",
    "y = data['Attrition']\n"
   ]
  },
  {
   "cell_type": "markdown",
   "id": "4e497720",
   "metadata": {},
   "source": [
    "# Exploratory Data Analysis (EDA)"
   ]
  },
  {
   "cell_type": "code",
   "execution_count": 41,
   "id": "2101eb66",
   "metadata": {},
   "outputs": [
    {
     "data": {
      "image/png": "[encoded data removed]",
      "text/plain": [
       "<Figure size 800x600 with 1 Axes>"
      ]
     },
     "metadata": {},
     "output_type": "display_data"
    }
   ],
   "source": [
    "#Countplot visualization\n",
    "plt.figure(figsize=(8,6))\n",
    "sns.countplot(x='Attrition', data=data)\n",
    "plt.title('Distribution of Attrition')\n",
    "plt.xlabel('Attrition')\n",
    "plt.ylabel('Count')\n",
    "plt.show()"
   ]
  },
  {
   "cell_type": "code",
   "execution_count": 45,
   "id": "007c106b",
   "metadata": {},
   "outputs": [
    {
     "data": {
      "image/png": "[encoded data removed]",
      "text/plain": [
       "<Figure size 1200x600 with 1 Axes>"
      ]
     },
     "metadata": {},
     "output_type": "display_data"
    }
   ],
   "source": [
    "plt.figure(figsize=(12,6))\n",
    "sns.countplot(x='Age', data=data,hue='Attrition')\n",
    "plt.title('Distribution of Age')\n",
    "plt.xlabel('Age')\n",
    "plt.ylabel('Count')\n",
    "plt.show()"
   ]
  },
  {
   "cell_type": "code",
   "execution_count": 44,
   "id": "92ac2567",
   "metadata": {},
   "outputs": [
    {
     "data": {
      "image/png": "[encoded data removed]",
      "text/plain": [
       "<Figure size 1200x600 with 1 Axes>"
      ]
     },
     "metadata": {},
     "output_type": "display_data"
    }
   ],
   "source": [
    "plt.figure(figsize=(12,6))\n",
    "sns.countplot(x='Job Satisfaction', data=data,hue='Attrition')\n",
    "plt.title('Distribution of Job Satisfaction')\n",
    "plt.xlabel('Job Satisfaction')\n",
    "plt.ylabel('Count')\n",
    "plt.show()"
   ]
  },
  {
   "cell_type": "code",
   "execution_count": 47,
   "id": "3a64ff2c",
   "metadata": {},
   "outputs": [
    {
     "data": {
      "image/png": "[encoded data removed]",
      "text/plain": [
       "<Figure size 1200x600 with 1 Axes>"
      ]
     },
     "metadata": {},
     "output_type": "display_data"
    }
   ],
   "source": [
    "plt.figure(figsize=(12,6))\n",
    "sns.countplot(x='Overtime', data=data,hue='Attrition')\n",
    "plt.title('Distribution of Overtime')\n",
    "plt.xlabel('Overtime')\n",
    "plt.ylabel('Count')\n",
    "plt.show()"
   ]
  },
  {
   "cell_type": "code",
   "execution_count": 49,
   "id": "fc3459ce",
   "metadata": {},
   "outputs": [
    {
     "data": {
      "image/png": "[encoded data removed]",
      "text/plain": [
       "<Figure size 1200x800 with 2 Axes>"
      ]
     },
     "metadata": {},
     "output_type": "display_data"
    }
   ],
   "source": [
    "# Visualize correlations between features\n",
    "plt.figure(figsize=(12, 8))\n",
    "sns.heatmap(data.select_dtypes(('float','int32','int64')).corr(), annot=True, fmt='.2f')\n",
    "plt.title('Feature Correlations')\n",
    "plt.show()"
   ]
  },
  {
   "cell_type": "markdown",
   "id": "a3c61096",
   "metadata": {},
   "source": [
    "# Model Building"
   ]
  },
  {
   "cell_type": "code",
   "execution_count": 63,
   "id": "8e282e38",
   "metadata": {},
   "outputs": [],
   "source": [
    "# Split the data into training and testing sets\n",
    "x_train, x_test, y_train, y_test = train_test_split(x, y, test_size=0.2, random_state=42)\n",
    "\n"
   ]
  },
  {
   "cell_type": "markdown",
   "id": "f31b9f47",
   "metadata": {},
   "source": [
    "## Logistic Regression "
   ]
  },
  {
   "cell_type": "code",
   "execution_count": 64,
   "id": "15cb22a0",
   "metadata": {},
   "outputs": [],
   "source": [
    "log_reg = LogisticRegression(random_state=42)\n",
    "log_reg.fit(x_train,y_train)\n",
    "log_pred=log_reg.predict(x_test)"
   ]
  },
  {
   "cell_type": "markdown",
   "id": "e899c2c8",
   "metadata": {},
   "source": [
    "## Decision Tree"
   ]
  },
  {
   "cell_type": "code",
   "execution_count": 65,
   "id": "4c012b6b",
   "metadata": {},
   "outputs": [],
   "source": [
    "dt_clf=DecisionTreeClassifier(random_state=42)\n",
    "dt_clf.fit(x_train,y_train)\n",
    "dt_pred=dt_clf.predict(x_test)"
   ]
  },
  {
   "cell_type": "markdown",
   "id": "79b4aa6b",
   "metadata": {},
   "source": [
    "## Random Forest "
   ]
  },
  {
   "cell_type": "code",
   "execution_count": 68,
   "id": "6681f5a2",
   "metadata": {},
   "outputs": [],
   "source": [
    "rf_clf = RandomForestClassifier(random_state=42)\n",
    "rf_clf.fit(x_train,y_train)\n",
    "rf_pred=rf_clf.predict(x_test)"
   ]
  },
  {
   "cell_type": "code",
   "execution_count": 70,
   "id": "2044a567",
   "metadata": {},
   "outputs": [
    {
     "name": "stdout",
     "output_type": "stream",
     "text": [
      "LogisticRegression:\n",
      "              precision    recall  f1-score   support\n",
      "\n",
      "           0       0.54      0.37      0.44      7096\n",
      "           1       0.56      0.72      0.63      7804\n",
      "\n",
      "    accuracy                           0.55     14900\n",
      "   macro avg       0.55      0.54      0.53     14900\n",
      "weighted avg       0.55      0.55      0.54     14900\n",
      "\n",
      "DecisionTreeClassifier:\n",
      "              precision    recall  f1-score   support\n",
      "\n",
      "           0       0.49      0.49      0.49      7096\n",
      "           1       0.54      0.53      0.53      7804\n",
      "\n",
      "    accuracy                           0.51     14900\n",
      "   macro avg       0.51      0.51      0.51     14900\n",
      "weighted avg       0.51      0.51      0.51     14900\n",
      "\n",
      "RandomForestClassifier:\n",
      "              precision    recall  f1-score   support\n",
      "\n",
      "           0       0.50      0.48      0.49      7096\n",
      "           1       0.54      0.55      0.55      7804\n",
      "\n",
      "    accuracy                           0.52     14900\n",
      "   macro avg       0.52      0.52      0.52     14900\n",
      "weighted avg       0.52      0.52      0.52     14900\n",
      "\n"
     ]
    }
   ],
   "source": [
    "# Predict and evaluate the models\n",
    "models = [log_reg,dt_clf, rf_clf]\n",
    "for model in models:\n",
    "    y_pred = model.predict(x_test)\n",
    "    print(f'{model.__class__.__name__}:')\n",
    "    print(classification_report(y_test, y_pred))"
   ]
  },
  {
   "cell_type": "code",
   "execution_count": null,
   "id": "3ffeac47",
   "metadata": {},
   "outputs": [],
   "source": []
  }
 ],
 "metadata": {
  "kernelspec": {
   "display_name": "Python 3 (ipykernel)",
   "language": "python",
   "name": "python3"
  },
  "language_info": {
   "codemirror_mode": {
    "name": "ipython",
    "version": 3
   },
   "file_extension": ".py",
   "mimetype": "text/x-python",
   "name": "python",
   "nbconvert_exporter": "python",
   "pygments_lexer": "ipython3",
   "version": "3.11.5"
  }
 },
 "nbformat": 4,
 "nbformat_minor": 5
}
